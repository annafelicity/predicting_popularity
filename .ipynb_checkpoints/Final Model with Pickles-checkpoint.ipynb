{
 "cells": [
  {
   "cell_type": "code",
   "execution_count": 1,
   "metadata": {
    "collapsed": true
   },
   "outputs": [],
   "source": [
    "import pandas as pd\n",
    "import re\n",
    "import pickle\n",
    "from textblob import TextBlob\n",
    "from textstat.textstat import textstat\n",
    "from sklearn.feature_extraction.text import CountVectorizer, TfidfVectorizer\n",
    "from sklearn.decomposition import LatentDirichletAllocation #can get rid of this after pickle works\n",
    "from sklearn.model_selection import train_test_split\n",
    "from sklearn.model_selection import GridSearchCV\n",
    "from sklearn.ensemble import RandomForestRegressor, GradientBoostingRegressor\n",
    "from sklearn.metrics import mean_squared_error, mean_absolute_error, explained_variance_score\n",
    "import matplotlib.pyplot as plt\n",
    "from sklearn.preprocessing import LabelBinarizer\n",
    "% matplotlib inline"
   ]
  },
  {
   "cell_type": "markdown",
   "metadata": {},
   "source": [
    "This model uses a final data file, \"final_ttpc_data_3831rows.csv\" that is all the english books with library counts between 2 and 1500, duplicate rows dropped, and the 8 rows that lack an age dropped. The three columns of relevance to this model are the \"y\"--extracted_libcount and the two X variables--proper_title and age_in_2017. The input pipeline needs to turn any titles into proper titles and add an age of 0 to all books."
   ]
  },
  {
   "cell_type": "code",
   "execution_count": 2,
   "metadata": {},
   "outputs": [],
   "source": [
    "df = pd.read_csv(\"/Users/annafriedman/GA/GACapstoneProject/full_data/final_ttpc_data_3831rows.csv\", usecols=[ \"extracted_libcount\", \"age_in_2017\", \"proper_title\"])"
   ]
  },
  {
   "cell_type": "code",
   "execution_count": 3,
   "metadata": {
    "scrolled": true
   },
   "outputs": [
    {
     "data": {
      "text/html": [
       "<div>\n",
       "<table border=\"1\" class=\"dataframe\">\n",
       "  <thead>\n",
       "    <tr style=\"text-align: right;\">\n",
       "      <th></th>\n",
       "      <th>extracted_libcount</th>\n",
       "      <th>age_in_2017</th>\n",
       "      <th>proper_title</th>\n",
       "    </tr>\n",
       "  </thead>\n",
       "  <tbody>\n",
       "    <tr>\n",
       "      <th>0</th>\n",
       "      <td>1488</td>\n",
       "      <td>15.0</td>\n",
       "      <td>Bloody Jack: Being an Account of the Curious A...</td>\n",
       "    </tr>\n",
       "    <tr>\n",
       "      <th>1</th>\n",
       "      <td>1445</td>\n",
       "      <td>12.0</td>\n",
       "      <td>Immortal in Death</td>\n",
       "    </tr>\n",
       "    <tr>\n",
       "      <th>2</th>\n",
       "      <td>1425</td>\n",
       "      <td>18.0</td>\n",
       "      <td>The Body's Perilous Pleasures: Dangerous Desir...</td>\n",
       "    </tr>\n",
       "    <tr>\n",
       "      <th>3</th>\n",
       "      <td>1424</td>\n",
       "      <td>4.0</td>\n",
       "      <td>The (Honest) Truth About Dishonesty: How We Li...</td>\n",
       "    </tr>\n",
       "    <tr>\n",
       "      <th>4</th>\n",
       "      <td>1422</td>\n",
       "      <td>1.0</td>\n",
       "      <td>The Berenstain Bears Meet Santa Bear</td>\n",
       "    </tr>\n",
       "  </tbody>\n",
       "</table>\n",
       "</div>"
      ],
      "text/plain": [
       "   extracted_libcount  age_in_2017  \\\n",
       "0                1488         15.0   \n",
       "1                1445         12.0   \n",
       "2                1425         18.0   \n",
       "3                1424          4.0   \n",
       "4                1422          1.0   \n",
       "\n",
       "                                        proper_title  \n",
       "0  Bloody Jack: Being an Account of the Curious A...  \n",
       "1                                  Immortal in Death  \n",
       "2  The Body's Perilous Pleasures: Dangerous Desir...  \n",
       "3  The (Honest) Truth About Dishonesty: How We Li...  \n",
       "4               The Berenstain Bears Meet Santa Bear  "
      ]
     },
     "execution_count": 3,
     "metadata": {},
     "output_type": "execute_result"
    }
   ],
   "source": [
    "df.head()"
   ]
  },
  {
   "cell_type": "code",
   "execution_count": 4,
   "metadata": {},
   "outputs": [
    {
     "data": {
      "text/plain": [
       "(3831, 3)"
      ]
     },
     "execution_count": 4,
     "metadata": {},
     "output_type": "execute_result"
    }
   ],
   "source": [
    "df.shape"
   ]
  },
  {
   "cell_type": "markdown",
   "metadata": {},
   "source": [
    "### add the title-based features to the 2-1500 set"
   ]
  },
  {
   "cell_type": "code",
   "execution_count": 5,
   "metadata": {
    "collapsed": true
   },
   "outputs": [],
   "source": [
    "#add sentiment analysis\n",
    "def text_blob_sentiment_polarity(value):\n",
    "    blob = TextBlob(value)\n",
    "    return blob.sentiment.polarity\n",
    "def text_blob_sentiment_subjectivity(value):\n",
    "    blob = TextBlob(value)\n",
    "    return blob.sentiment.subjectivity"
   ]
  },
  {
   "cell_type": "code",
   "execution_count": 6,
   "metadata": {
    "collapsed": true
   },
   "outputs": [],
   "source": [
    "df[\"sentiment_polarity\"] = df[\"proper_title\"].apply(text_blob_sentiment_polarity)"
   ]
  },
  {
   "cell_type": "code",
   "execution_count": 7,
   "metadata": {
    "collapsed": true
   },
   "outputs": [],
   "source": [
    "df[\"sentiment_subjectivity\"] = df[\"proper_title\"].apply(text_blob_sentiment_subjectivity)"
   ]
  },
  {
   "cell_type": "code",
   "execution_count": 8,
   "metadata": {
    "collapsed": true
   },
   "outputs": [],
   "source": [
    "#add reading level\n",
    "def reading_level_comp(string):\n",
    "    try:\n",
    "        level = textstat.text_standard(string)\n",
    "        return level\n",
    "    except:\n",
    "        return \"Unclear\""
   ]
  },
  {
   "cell_type": "code",
   "execution_count": 9,
   "metadata": {
    "collapsed": true
   },
   "outputs": [],
   "source": [
    "df[\"reading_level\"] = df[\"proper_title\"].apply(reading_level_comp)"
   ]
  },
  {
   "cell_type": "code",
   "execution_count": 10,
   "metadata": {
    "collapsed": true
   },
   "outputs": [],
   "source": [
    "#make reading level into a dummies df\n",
    "lb_rl = LabelBinarizer()\n",
    "reading_level_lb = lb_rl.fit_transform(df[\"reading_level\"])"
   ]
  },
  {
   "cell_type": "code",
   "execution_count": 11,
   "metadata": {
    "collapsed": true
   },
   "outputs": [],
   "source": [
    "reading_level_dummies = pd.DataFrame(reading_level_lb)"
   ]
  },
  {
   "cell_type": "code",
   "execution_count": 12,
   "metadata": {},
   "outputs": [
    {
     "data": {
      "text/plain": [
       "(3831, 49)"
      ]
     },
     "execution_count": 12,
     "metadata": {},
     "output_type": "execute_result"
    }
   ],
   "source": [
    "reading_level_dummies.shape"
   ]
  },
  {
   "cell_type": "code",
   "execution_count": 13,
   "metadata": {
    "collapsed": true
   },
   "outputs": [],
   "source": [
    "#add number of words column\n",
    "df[\"number_of_words\"] = df[\"proper_title\"].apply(lambda x: len(x.split()))"
   ]
  },
  {
   "cell_type": "code",
   "execution_count": 14,
   "metadata": {
    "collapsed": true
   },
   "outputs": [],
   "source": [
    "#add title length\n",
    "df[\"title_length\"] = df[\"proper_title\"].apply(lambda x: len(x))"
   ]
  },
  {
   "cell_type": "code",
   "execution_count": 15,
   "metadata": {
    "collapsed": true
   },
   "outputs": [],
   "source": [
    "# this is commented out because I'm seeing if the pickled model will work now\n",
    "#add topic modeling\n",
    "# cv_for_lda = CountVectorizer(min_df=5, max_df=.75, ngram_range=(1,3), stop_words=\"english\")\n",
    "\n",
    "# words = cv_for_lda.fit_transform(df[\"proper_title\"])"
   ]
  },
  {
   "cell_type": "code",
   "execution_count": 16,
   "metadata": {
    "collapsed": true,
    "scrolled": false
   },
   "outputs": [],
   "source": [
    "#ditto re: commented out to see if pickled model works\n",
    "# lda_8 = LatentDirichletAllocation(n_topics=8, max_iter=15,\n",
    "#                                 topic_word_prior=2,\n",
    "#                                 learning_offset=50., random_state=3)\n",
    "\n",
    "# lda_8.fit(words)"
   ]
  },
  {
   "cell_type": "code",
   "execution_count": 17,
   "metadata": {
    "collapsed": true
   },
   "outputs": [],
   "source": [
    "#I think this should pull in pickled lda model\n",
    "lda_8 = pickle.load(open('ttpc_lda.pkl', 'rb'))\n",
    "cv_for_lda = pickle.load(open('cv_for_lda.pkl', 'rb'))"
   ]
  },
  {
   "cell_type": "code",
   "execution_count": 18,
   "metadata": {
    "collapsed": true
   },
   "outputs": [],
   "source": [
    "words = cv_for_lda.fit_transform(df[\"proper_title\"])"
   ]
  },
  {
   "cell_type": "code",
   "execution_count": 19,
   "metadata": {
    "collapsed": true
   },
   "outputs": [],
   "source": [
    "#ORIGINAL VERSION OF LDA TRANSFORM\n",
    "\n",
    "# transformed_data_8= lda_8.transform(words)\n",
    "# transformed_data_8 = pd.DataFrame(transformed_data_8, columns=['Topic %s' % x for x in range(8)])"
   ]
  },
  {
   "cell_type": "code",
   "execution_count": 20,
   "metadata": {
    "collapsed": true
   },
   "outputs": [],
   "source": [
    "#trial version with pickles\n",
    "transformed_data_8= lda_8.transform(words)\n",
    "transformed_data_8 = pd.DataFrame(transformed_data_8, columns=['Topic %s' % x for x in range(8)])"
   ]
  },
  {
   "cell_type": "code",
   "execution_count": 21,
   "metadata": {
    "collapsed": true
   },
   "outputs": [],
   "source": [
    "def top_topic_number_extractor(dataframe):\n",
    "    top_topic_list = []\n",
    "    for i in dataframe.index:\n",
    "        ordered_row = dataframe.iloc[i,:].sort_values(ascending=False)\n",
    "        top_topic_name = ordered_row.index[0]\n",
    "        count_pattern = re.compile(\"\\d+\")\n",
    "        top_topic_number = count_pattern.search(top_topic_name).group()\n",
    "        top_topic_list.append(int(top_topic_number))\n",
    "    return top_topic_list"
   ]
  },
  {
   "cell_type": "code",
   "execution_count": 22,
   "metadata": {
    "collapsed": true
   },
   "outputs": [],
   "source": [
    "df[\"top_topic_number_lda8\"] = top_topic_number_extractor(transformed_data_8)"
   ]
  },
  {
   "cell_type": "code",
   "execution_count": 23,
   "metadata": {
    "collapsed": true
   },
   "outputs": [],
   "source": [
    "#make dummy variable columns for top topic number\n",
    "lb = LabelBinarizer()\n",
    "topic_lb = lb.fit_transform(df[\"top_topic_number_lda8\"])"
   ]
  },
  {
   "cell_type": "code",
   "execution_count": 24,
   "metadata": {},
   "outputs": [
    {
     "data": {
      "text/html": [
       "<div>\n",
       "<table border=\"1\" class=\"dataframe\">\n",
       "  <thead>\n",
       "    <tr style=\"text-align: right;\">\n",
       "      <th></th>\n",
       "      <th>0</th>\n",
       "      <th>1</th>\n",
       "      <th>2</th>\n",
       "      <th>3</th>\n",
       "      <th>4</th>\n",
       "      <th>5</th>\n",
       "      <th>6</th>\n",
       "      <th>7</th>\n",
       "    </tr>\n",
       "  </thead>\n",
       "  <tbody>\n",
       "    <tr>\n",
       "      <th>0</th>\n",
       "      <td>0</td>\n",
       "      <td>0</td>\n",
       "      <td>0</td>\n",
       "      <td>0</td>\n",
       "      <td>0</td>\n",
       "      <td>0</td>\n",
       "      <td>1</td>\n",
       "      <td>0</td>\n",
       "    </tr>\n",
       "    <tr>\n",
       "      <th>1</th>\n",
       "      <td>1</td>\n",
       "      <td>0</td>\n",
       "      <td>0</td>\n",
       "      <td>0</td>\n",
       "      <td>0</td>\n",
       "      <td>0</td>\n",
       "      <td>0</td>\n",
       "      <td>0</td>\n",
       "    </tr>\n",
       "    <tr>\n",
       "      <th>2</th>\n",
       "      <td>1</td>\n",
       "      <td>0</td>\n",
       "      <td>0</td>\n",
       "      <td>0</td>\n",
       "      <td>0</td>\n",
       "      <td>0</td>\n",
       "      <td>0</td>\n",
       "      <td>0</td>\n",
       "    </tr>\n",
       "    <tr>\n",
       "      <th>3</th>\n",
       "      <td>0</td>\n",
       "      <td>0</td>\n",
       "      <td>0</td>\n",
       "      <td>0</td>\n",
       "      <td>0</td>\n",
       "      <td>1</td>\n",
       "      <td>0</td>\n",
       "      <td>0</td>\n",
       "    </tr>\n",
       "    <tr>\n",
       "      <th>4</th>\n",
       "      <td>0</td>\n",
       "      <td>0</td>\n",
       "      <td>0</td>\n",
       "      <td>1</td>\n",
       "      <td>0</td>\n",
       "      <td>0</td>\n",
       "      <td>0</td>\n",
       "      <td>0</td>\n",
       "    </tr>\n",
       "  </tbody>\n",
       "</table>\n",
       "</div>"
      ],
      "text/plain": [
       "   0  1  2  3  4  5  6  7\n",
       "0  0  0  0  0  0  0  1  0\n",
       "1  1  0  0  0  0  0  0  0\n",
       "2  1  0  0  0  0  0  0  0\n",
       "3  0  0  0  0  0  1  0  0\n",
       "4  0  0  0  1  0  0  0  0"
      ]
     },
     "execution_count": 24,
     "metadata": {},
     "output_type": "execute_result"
    }
   ],
   "source": [
    "#make df with categoricalized top topics\n",
    "top_topics_df = pd.DataFrame(topic_lb)\n",
    "top_topics_df.head()"
   ]
  },
  {
   "cell_type": "code",
   "execution_count": 25,
   "metadata": {
    "collapsed": true
   },
   "outputs": [],
   "source": [
    "#pickling this now\n",
    "#tfidf vectorize the words:\n",
    "#all lowercase consistently worked worse, so keeping capitalization here\n",
    "#giving this a test now with stopwords--still unclear if they should stay\n",
    "# tfidf = TfidfVectorizer(min_df=5, max_df=.95, lowercase=False, stop_words=\"english\", ngram_range=(1,3))\n",
    "# tfidf_title = tfidf.fit_transform(df[\"proper_title\"])"
   ]
  },
  {
   "cell_type": "code",
   "execution_count": 26,
   "metadata": {
    "collapsed": true
   },
   "outputs": [],
   "source": [
    "#pull in pickled tfidf\n",
    "#I think this should pull in pickled lda model\n",
    "tfidf = pickle.load(open('tfidf.pkl', 'rb'))\n",
    "tfidf_title = tfidf.fit_transform(df[\"proper_title\"])"
   ]
  },
  {
   "cell_type": "code",
   "execution_count": 27,
   "metadata": {},
   "outputs": [
    {
     "data": {
      "text/plain": [
       "923"
      ]
     },
     "execution_count": 27,
     "metadata": {},
     "output_type": "execute_result"
    }
   ],
   "source": [
    "# this line can go if all works--was checking the length of the vocabulary\n",
    "len(tfidf.vocabulary_)"
   ]
  },
  {
   "cell_type": "code",
   "execution_count": 28,
   "metadata": {},
   "outputs": [],
   "source": [
    "#make it into a df to join onto beginning data:\n",
    "tfidf_title_df = pd.DataFrame(tfidf_title.todense(), \n",
    "                  columns=tfidf.get_feature_names())"
   ]
  },
  {
   "cell_type": "code",
   "execution_count": 29,
   "metadata": {},
   "outputs": [
    {
     "data": {
      "text/plain": [
       "(3831, 923)"
      ]
     },
     "execution_count": 29,
     "metadata": {},
     "output_type": "execute_result"
    }
   ],
   "source": [
    "tfidf_title_df.shape"
   ]
  },
  {
   "cell_type": "code",
   "execution_count": 30,
   "metadata": {
    "scrolled": true
   },
   "outputs": [
    {
     "data": {
      "text/html": [
       "<div>\n",
       "<table border=\"1\" class=\"dataframe\">\n",
       "  <thead>\n",
       "    <tr style=\"text-align: right;\">\n",
       "      <th></th>\n",
       "      <th>extracted_libcount</th>\n",
       "      <th>age_in_2017</th>\n",
       "      <th>proper_title</th>\n",
       "      <th>sentiment_polarity</th>\n",
       "      <th>sentiment_subjectivity</th>\n",
       "      <th>reading_level</th>\n",
       "      <th>number_of_words</th>\n",
       "      <th>title_length</th>\n",
       "      <th>top_topic_number_lda8</th>\n",
       "    </tr>\n",
       "  </thead>\n",
       "  <tbody>\n",
       "    <tr>\n",
       "      <th>0</th>\n",
       "      <td>1488</td>\n",
       "      <td>15.0</td>\n",
       "      <td>Bloody Jack: Being an Account of the Curious A...</td>\n",
       "      <td>-0.450000</td>\n",
       "      <td>0.950000</td>\n",
       "      <td>11th and 12th grade</td>\n",
       "      <td>15</td>\n",
       "      <td>89</td>\n",
       "      <td>6</td>\n",
       "    </tr>\n",
       "    <tr>\n",
       "      <th>1</th>\n",
       "      <td>1445</td>\n",
       "      <td>12.0</td>\n",
       "      <td>Immortal in Death</td>\n",
       "      <td>0.000000</td>\n",
       "      <td>0.000000</td>\n",
       "      <td>3th and 4th grade</td>\n",
       "      <td>3</td>\n",
       "      <td>17</td>\n",
       "      <td>0</td>\n",
       "    </tr>\n",
       "    <tr>\n",
       "      <th>2</th>\n",
       "      <td>1425</td>\n",
       "      <td>18.0</td>\n",
       "      <td>The Body's Perilous Pleasures: Dangerous Desir...</td>\n",
       "      <td>-0.216667</td>\n",
       "      <td>0.533333</td>\n",
       "      <td>36th and 37th grade</td>\n",
       "      <td>9</td>\n",
       "      <td>73</td>\n",
       "      <td>0</td>\n",
       "    </tr>\n",
       "    <tr>\n",
       "      <th>3</th>\n",
       "      <td>1424</td>\n",
       "      <td>4.0</td>\n",
       "      <td>The (Honest) Truth About Dishonesty: How We Li...</td>\n",
       "      <td>0.600000</td>\n",
       "      <td>0.900000</td>\n",
       "      <td>24th and 25th grade</td>\n",
       "      <td>11</td>\n",
       "      <td>81</td>\n",
       "      <td>5</td>\n",
       "    </tr>\n",
       "    <tr>\n",
       "      <th>4</th>\n",
       "      <td>1422</td>\n",
       "      <td>1.0</td>\n",
       "      <td>The Berenstain Bears Meet Santa Bear</td>\n",
       "      <td>0.000000</td>\n",
       "      <td>0.000000</td>\n",
       "      <td>1th and 2th grade</td>\n",
       "      <td>6</td>\n",
       "      <td>36</td>\n",
       "      <td>3</td>\n",
       "    </tr>\n",
       "  </tbody>\n",
       "</table>\n",
       "</div>"
      ],
      "text/plain": [
       "   extracted_libcount  age_in_2017  \\\n",
       "0                1488         15.0   \n",
       "1                1445         12.0   \n",
       "2                1425         18.0   \n",
       "3                1424          4.0   \n",
       "4                1422          1.0   \n",
       "\n",
       "                                        proper_title  sentiment_polarity  \\\n",
       "0  Bloody Jack: Being an Account of the Curious A...           -0.450000   \n",
       "1                                  Immortal in Death            0.000000   \n",
       "2  The Body's Perilous Pleasures: Dangerous Desir...           -0.216667   \n",
       "3  The (Honest) Truth About Dishonesty: How We Li...            0.600000   \n",
       "4               The Berenstain Bears Meet Santa Bear            0.000000   \n",
       "\n",
       "   sentiment_subjectivity        reading_level  number_of_words  title_length  \\\n",
       "0                0.950000  11th and 12th grade               15            89   \n",
       "1                0.000000    3th and 4th grade                3            17   \n",
       "2                0.533333  36th and 37th grade                9            73   \n",
       "3                0.900000  24th and 25th grade               11            81   \n",
       "4                0.000000    1th and 2th grade                6            36   \n",
       "\n",
       "   top_topic_number_lda8  \n",
       "0                      6  \n",
       "1                      0  \n",
       "2                      0  \n",
       "3                      5  \n",
       "4                      3  "
      ]
     },
     "execution_count": 30,
     "metadata": {},
     "output_type": "execute_result"
    }
   ],
   "source": [
    "df.head()"
   ]
  },
  {
   "cell_type": "code",
   "execution_count": 31,
   "metadata": {},
   "outputs": [
    {
     "data": {
      "text/plain": [
       "(3831, 9)"
      ]
     },
     "execution_count": 31,
     "metadata": {},
     "output_type": "execute_result"
    }
   ],
   "source": [
    "df.shape"
   ]
  },
  {
   "cell_type": "markdown",
   "metadata": {},
   "source": [
    "### create y and X for modeling"
   ]
  },
  {
   "cell_type": "code",
   "execution_count": 32,
   "metadata": {
    "collapsed": true
   },
   "outputs": [],
   "source": [
    "y = df[\"extracted_libcount\"]"
   ]
  },
  {
   "cell_type": "code",
   "execution_count": 83,
   "metadata": {
    "collapsed": true
   },
   "outputs": [],
   "source": [
    "#in original model trials this was X2\n",
    "X = pd.concat([df[[\"age_in_2017\", \"sentiment_polarity\", \"sentiment_subjectivity\", \"number_of_words\", \"title_length\"]], top_topics_df, tfidf_title_df, reading_level_dummies], axis=1)"
   ]
  },
  {
   "cell_type": "code",
   "execution_count": 34,
   "metadata": {},
   "outputs": [],
   "source": [
    "# X.shape"
   ]
  },
  {
   "cell_type": "code",
   "execution_count": 35,
   "metadata": {},
   "outputs": [
    {
     "data": {
      "text/plain": [
       "(3831, 985)"
      ]
     },
     "execution_count": 35,
     "metadata": {},
     "output_type": "execute_result"
    }
   ],
   "source": [
    "X.shape"
   ]
  },
  {
   "cell_type": "code",
   "execution_count": 36,
   "metadata": {},
   "outputs": [],
   "source": [
    "# X.head()"
   ]
  },
  {
   "cell_type": "code",
   "execution_count": 37,
   "metadata": {},
   "outputs": [
    {
     "data": {
      "text/html": [
       "<div>\n",
       "<table border=\"1\" class=\"dataframe\">\n",
       "  <thead>\n",
       "    <tr style=\"text-align: right;\">\n",
       "      <th></th>\n",
       "      <th>age_in_2017</th>\n",
       "      <th>sentiment_polarity</th>\n",
       "      <th>sentiment_subjectivity</th>\n",
       "      <th>number_of_words</th>\n",
       "      <th>title_length</th>\n",
       "      <th>0</th>\n",
       "      <th>1</th>\n",
       "      <th>2</th>\n",
       "      <th>3</th>\n",
       "      <th>4</th>\n",
       "      <th>...</th>\n",
       "      <th>39</th>\n",
       "      <th>40</th>\n",
       "      <th>41</th>\n",
       "      <th>42</th>\n",
       "      <th>43</th>\n",
       "      <th>44</th>\n",
       "      <th>45</th>\n",
       "      <th>46</th>\n",
       "      <th>47</th>\n",
       "      <th>48</th>\n",
       "    </tr>\n",
       "  </thead>\n",
       "  <tbody>\n",
       "    <tr>\n",
       "      <th>0</th>\n",
       "      <td>15.0</td>\n",
       "      <td>-0.450000</td>\n",
       "      <td>0.950000</td>\n",
       "      <td>15</td>\n",
       "      <td>89</td>\n",
       "      <td>0</td>\n",
       "      <td>0</td>\n",
       "      <td>0</td>\n",
       "      <td>0</td>\n",
       "      <td>0</td>\n",
       "      <td>...</td>\n",
       "      <td>0</td>\n",
       "      <td>0</td>\n",
       "      <td>0</td>\n",
       "      <td>0</td>\n",
       "      <td>0</td>\n",
       "      <td>0</td>\n",
       "      <td>0</td>\n",
       "      <td>0</td>\n",
       "      <td>0</td>\n",
       "      <td>0</td>\n",
       "    </tr>\n",
       "    <tr>\n",
       "      <th>1</th>\n",
       "      <td>12.0</td>\n",
       "      <td>0.000000</td>\n",
       "      <td>0.000000</td>\n",
       "      <td>3</td>\n",
       "      <td>17</td>\n",
       "      <td>1</td>\n",
       "      <td>0</td>\n",
       "      <td>0</td>\n",
       "      <td>0</td>\n",
       "      <td>0</td>\n",
       "      <td>...</td>\n",
       "      <td>0</td>\n",
       "      <td>0</td>\n",
       "      <td>0</td>\n",
       "      <td>0</td>\n",
       "      <td>0</td>\n",
       "      <td>0</td>\n",
       "      <td>0</td>\n",
       "      <td>0</td>\n",
       "      <td>0</td>\n",
       "      <td>0</td>\n",
       "    </tr>\n",
       "    <tr>\n",
       "      <th>2</th>\n",
       "      <td>18.0</td>\n",
       "      <td>-0.216667</td>\n",
       "      <td>0.533333</td>\n",
       "      <td>9</td>\n",
       "      <td>73</td>\n",
       "      <td>1</td>\n",
       "      <td>0</td>\n",
       "      <td>0</td>\n",
       "      <td>0</td>\n",
       "      <td>0</td>\n",
       "      <td>...</td>\n",
       "      <td>0</td>\n",
       "      <td>0</td>\n",
       "      <td>0</td>\n",
       "      <td>0</td>\n",
       "      <td>0</td>\n",
       "      <td>0</td>\n",
       "      <td>0</td>\n",
       "      <td>0</td>\n",
       "      <td>0</td>\n",
       "      <td>0</td>\n",
       "    </tr>\n",
       "    <tr>\n",
       "      <th>3</th>\n",
       "      <td>4.0</td>\n",
       "      <td>0.600000</td>\n",
       "      <td>0.900000</td>\n",
       "      <td>11</td>\n",
       "      <td>81</td>\n",
       "      <td>0</td>\n",
       "      <td>0</td>\n",
       "      <td>0</td>\n",
       "      <td>0</td>\n",
       "      <td>0</td>\n",
       "      <td>...</td>\n",
       "      <td>0</td>\n",
       "      <td>0</td>\n",
       "      <td>0</td>\n",
       "      <td>0</td>\n",
       "      <td>0</td>\n",
       "      <td>0</td>\n",
       "      <td>0</td>\n",
       "      <td>0</td>\n",
       "      <td>0</td>\n",
       "      <td>0</td>\n",
       "    </tr>\n",
       "    <tr>\n",
       "      <th>4</th>\n",
       "      <td>1.0</td>\n",
       "      <td>0.000000</td>\n",
       "      <td>0.000000</td>\n",
       "      <td>6</td>\n",
       "      <td>36</td>\n",
       "      <td>0</td>\n",
       "      <td>0</td>\n",
       "      <td>0</td>\n",
       "      <td>1</td>\n",
       "      <td>0</td>\n",
       "      <td>...</td>\n",
       "      <td>0</td>\n",
       "      <td>0</td>\n",
       "      <td>0</td>\n",
       "      <td>0</td>\n",
       "      <td>0</td>\n",
       "      <td>0</td>\n",
       "      <td>0</td>\n",
       "      <td>0</td>\n",
       "      <td>0</td>\n",
       "      <td>0</td>\n",
       "    </tr>\n",
       "  </tbody>\n",
       "</table>\n",
       "<p>5 rows × 985 columns</p>\n",
       "</div>"
      ],
      "text/plain": [
       "   age_in_2017  sentiment_polarity  sentiment_subjectivity  number_of_words  \\\n",
       "0         15.0           -0.450000                0.950000               15   \n",
       "1         12.0            0.000000                0.000000                3   \n",
       "2         18.0           -0.216667                0.533333                9   \n",
       "3          4.0            0.600000                0.900000               11   \n",
       "4          1.0            0.000000                0.000000                6   \n",
       "\n",
       "   title_length  0  1  2  3  4 ...  39  40  41  42  43  44  45  46  47  48  \n",
       "0            89  0  0  0  0  0 ...   0   0   0   0   0   0   0   0   0   0  \n",
       "1            17  1  0  0  0  0 ...   0   0   0   0   0   0   0   0   0   0  \n",
       "2            73  1  0  0  0  0 ...   0   0   0   0   0   0   0   0   0   0  \n",
       "3            81  0  0  0  0  0 ...   0   0   0   0   0   0   0   0   0   0  \n",
       "4            36  0  0  0  1  0 ...   0   0   0   0   0   0   0   0   0   0  \n",
       "\n",
       "[5 rows x 985 columns]"
      ]
     },
     "execution_count": 37,
     "metadata": {},
     "output_type": "execute_result"
    }
   ],
   "source": [
    "X.head()"
   ]
  },
  {
   "cell_type": "code",
   "execution_count": 38,
   "metadata": {
    "collapsed": true
   },
   "outputs": [],
   "source": [
    "X_train, X_test, y_train, y_test = train_test_split(X, y, test_size=0.33, random_state=3)"
   ]
  },
  {
   "cell_type": "code",
   "execution_count": 39,
   "metadata": {},
   "outputs": [
    {
     "data": {
      "text/plain": [
       "RandomForestRegressor(bootstrap=True, criterion='mse', max_depth=None,\n",
       "           max_features='auto', max_leaf_nodes=None,\n",
       "           min_impurity_split=1e-07, min_samples_leaf=5,\n",
       "           min_samples_split=2, min_weight_fraction_leaf=0.0,\n",
       "           n_estimators=20, n_jobs=1, oob_score=False, random_state=None,\n",
       "           verbose=0, warm_start=False)"
      ]
     },
     "execution_count": 39,
     "metadata": {},
     "output_type": "execute_result"
    }
   ],
   "source": [
    "rfr_2 = RandomForestRegressor(min_samples_leaf=5, n_estimators=20)\n",
    "rfr_2.fit(X_train, y_train)"
   ]
  },
  {
   "cell_type": "code",
   "execution_count": 40,
   "metadata": {},
   "outputs": [
    {
     "data": {
      "text/plain": [
       "0.41446202355544115"
      ]
     },
     "execution_count": 40,
     "metadata": {},
     "output_type": "execute_result"
    }
   ],
   "source": [
    "rfr_2.score(X_train, y_train)"
   ]
  },
  {
   "cell_type": "code",
   "execution_count": 41,
   "metadata": {},
   "outputs": [
    {
     "data": {
      "text/plain": [
       "0.01918858960816705"
      ]
     },
     "execution_count": 41,
     "metadata": {},
     "output_type": "execute_result"
    }
   ],
   "source": [
    "rfr_2.score(X_test, y_test)"
   ]
  },
  {
   "cell_type": "code",
   "execution_count": 42,
   "metadata": {
    "collapsed": true
   },
   "outputs": [],
   "source": [
    "predicted_vals_2 = rfr_2.predict(X_test)"
   ]
  },
  {
   "cell_type": "code",
   "execution_count": 43,
   "metadata": {},
   "outputs": [
    {
     "data": {
      "text/plain": [
       "-5.7247525097281828"
      ]
     },
     "execution_count": 43,
     "metadata": {},
     "output_type": "execute_result"
    }
   ],
   "source": [
    "explained_variance_score(predicted_vals_2, y_test)"
   ]
  },
  {
   "cell_type": "code",
   "execution_count": 44,
   "metadata": {},
   "outputs": [
    {
     "data": {
      "text/plain": [
       "168.48207222375555"
      ]
     },
     "execution_count": 44,
     "metadata": {},
     "output_type": "execute_result"
    }
   ],
   "source": [
    "mean_absolute_error(predicted_vals_2, y_test)"
   ]
  },
  {
   "cell_type": "code",
   "execution_count": 45,
   "metadata": {},
   "outputs": [
    {
     "data": {
      "text/plain": [
       "60672.549368831882"
      ]
     },
     "execution_count": 45,
     "metadata": {},
     "output_type": "execute_result"
    }
   ],
   "source": [
    "mean_squared_error(predicted_vals_2, y_test)"
   ]
  },
  {
   "cell_type": "code",
   "execution_count": 46,
   "metadata": {
    "scrolled": true
   },
   "outputs": [
    {
     "data": {
      "text/plain": [
       "(0, 1400)"
      ]
     },
     "execution_count": 46,
     "metadata": {},
     "output_type": "execute_result"
    },
    {
     "data": {
      "image/png": "[encoded data removed]",
      "text/plain": [
       "<matplotlib.figure.Figure at 0x11d624748>"
      ]
     },
     "metadata": {},
     "output_type": "display_data"
    }
   ],
   "source": [
    "plt.scatter(y_test, predicted_vals_2)\n",
    "plt.ylim(0,1400)"
   ]
  },
  {
   "cell_type": "code",
   "execution_count": 47,
   "metadata": {
    "collapsed": true
   },
   "outputs": [],
   "source": [
    "### GridSearch on data set 2\n",
    "parameters = {\"n_estimators\": [10, 20, 50, 100, 200], \"max_features\": [.10, .30, .50, .90], \"max_depth\": [5, 10, 15, 20], \"min_samples_leaf\": [3, 5, 7, 10, 15]}\n",
    "rf = RandomForestRegressor()\n",
    "grid_2 = GridSearchCV(rf, parameters)"
   ]
  },
  {
   "cell_type": "code",
   "execution_count": 48,
   "metadata": {
    "scrolled": true
   },
   "outputs": [
    {
     "data": {
      "text/plain": [
       "GridSearchCV(cv=None, error_score='raise',\n",
       "       estimator=RandomForestRegressor(bootstrap=True, criterion='mse', max_depth=None,\n",
       "           max_features='auto', max_leaf_nodes=None,\n",
       "           min_impurity_split=1e-07, min_samples_leaf=1,\n",
       "           min_samples_split=2, min_weight_fraction_leaf=0.0,\n",
       "           n_estimators=10, n_jobs=1, oob_score=False, random_state=None,\n",
       "           verbose=0, warm_start=False),\n",
       "       fit_params={}, iid=True, n_jobs=1,\n",
       "       param_grid={'n_estimators': [10, 20, 50, 100, 200], 'max_features': [0.1, 0.3, 0.5, 0.9], 'max_depth': [5, 10, 15, 20], 'min_samples_leaf': [3, 5, 7, 10, 15]},\n",
       "       pre_dispatch='2*n_jobs', refit=True, return_train_score=True,\n",
       "       scoring=None, verbose=0)"
      ]
     },
     "execution_count": 48,
     "metadata": {},
     "output_type": "execute_result"
    }
   ],
   "source": [
    "grid_2.fit(X_train, y_train)"
   ]
  },
  {
   "cell_type": "code",
   "execution_count": 49,
   "metadata": {},
   "outputs": [
    {
     "data": {
      "text/plain": [
       "0.063859394491633192"
      ]
     },
     "execution_count": 49,
     "metadata": {},
     "output_type": "execute_result"
    }
   ],
   "source": [
    "grid_2.best_score_"
   ]
  },
  {
   "cell_type": "code",
   "execution_count": 50,
   "metadata": {},
   "outputs": [
    {
     "data": {
      "text/plain": [
       "{'max_depth': 20,\n",
       " 'max_features': 0.3,\n",
       " 'min_samples_leaf': 7,\n",
       " 'n_estimators': 200}"
      ]
     },
     "execution_count": 50,
     "metadata": {},
     "output_type": "execute_result"
    }
   ],
   "source": [
    "grid_2.best_params_"
   ]
  },
  {
   "cell_type": "code",
   "execution_count": 51,
   "metadata": {},
   "outputs": [
    {
     "data": {
      "text/plain": [
       "RandomForestRegressor(bootstrap=True, criterion='mse', max_depth=20,\n",
       "           max_features=0.3, max_leaf_nodes=None, min_impurity_split=1e-07,\n",
       "           min_samples_leaf=5, min_samples_split=2,\n",
       "           min_weight_fraction_leaf=0.0, n_estimators=100, n_jobs=1,\n",
       "           oob_score=False, random_state=None, verbose=0, warm_start=False)"
      ]
     },
     "execution_count": 51,
     "metadata": {},
     "output_type": "execute_result"
    }
   ],
   "source": [
    "rfr_best_params_2 = RandomForestRegressor(max_depth=20, max_features=0.3, min_samples_leaf=5, n_estimators=100)\n",
    "rfr_best_params_2.fit(X_train, y_train)"
   ]
  },
  {
   "cell_type": "code",
   "execution_count": 52,
   "metadata": {
    "collapsed": true
   },
   "outputs": [],
   "source": [
    "rfr_bp2_predictions = rfr_best_params_2.predict(X_test)"
   ]
  },
  {
   "cell_type": "code",
   "execution_count": 53,
   "metadata": {
    "scrolled": true
   },
   "outputs": [
    {
     "data": {
      "text/plain": [
       "0.06439072199974516"
      ]
     },
     "execution_count": 53,
     "metadata": {},
     "output_type": "execute_result"
    }
   ],
   "source": [
    "rfr_best_params_2.score(X_test, y_test)"
   ]
  },
  {
   "cell_type": "code",
   "execution_count": 54,
   "metadata": {},
   "outputs": [
    {
     "data": {
      "text/plain": [
       "165.32267063223779"
      ]
     },
     "execution_count": 54,
     "metadata": {},
     "output_type": "execute_result"
    }
   ],
   "source": [
    "mean_absolute_error(y_test, rfr_bp2_predictions)"
   ]
  },
  {
   "cell_type": "code",
   "execution_count": 55,
   "metadata": {},
   "outputs": [
    {
     "data": {
      "text/plain": [
       "0.064765116727025118"
      ]
     },
     "execution_count": 55,
     "metadata": {},
     "output_type": "execute_result"
    }
   ],
   "source": [
    "explained_variance_score(y_test, rfr_bp2_predictions)"
   ]
  },
  {
   "cell_type": "code",
   "execution_count": 56,
   "metadata": {},
   "outputs": [
    {
     "data": {
      "text/plain": [
       "57876.365943509714"
      ]
     },
     "execution_count": 56,
     "metadata": {},
     "output_type": "execute_result"
    }
   ],
   "source": [
    "mean_squared_error(y_test, rfr_bp2_predictions)"
   ]
  },
  {
   "cell_type": "code",
   "execution_count": 57,
   "metadata": {
    "scrolled": true
   },
   "outputs": [
    {
     "data": {
      "image/png": "[encoded data removed]",
      "text/plain": [
       "<matplotlib.figure.Figure at 0x11d96d2b0>"
      ]
     },
     "metadata": {},
     "output_type": "display_data"
    }
   ],
   "source": [
    "plt.scatter(y_test, rfr_bp2_predictions, marker=\"+\", s=1, facecolor='#F557A4')\n",
    "plt.ylim(1,1500)\n",
    "plt.xlabel(\"Actual Total Library Counts\")\n",
    "plt.ylabel(\"Predicted Total Library Counts\")\n",
    "plt.title(\"Comparison of Actual vs. Predicted Library Counts\", color=\"#840000\")\n",
    "plt.savefig(\"images/actual_vs_predicted_libcount_test.png\", dpi=150)"
   ]
  },
  {
   "cell_type": "code",
   "execution_count": 58,
   "metadata": {},
   "outputs": [
    {
     "data": {
      "image/png": "[encoded data removed]",
      "text/plain": [
       "<matplotlib.figure.Figure at 0x11d63e6d8>"
      ]
     },
     "metadata": {},
     "output_type": "display_data"
    }
   ],
   "source": [
    "plt.scatter(y_test, rfr_bp2_predictions, marker=\"+\", s=1, facecolor='#F557A4')\n",
    "plt.ylim(1,400)\n",
    "plt.xlim(1,400)\n",
    "plt.xlabel(\"Actual Total Library Counts\")\n",
    "plt.ylabel(\"Predicted Total Library Counts\")\n",
    "plt.title(\"Comparison of Actual vs. Predicted Library Counts\", color=\"#840000\")\n",
    "plt.savefig(\"images/actual_vs_predicted_libcount_detail_test.png\", dpi=150)"
   ]
  },
  {
   "cell_type": "code",
   "execution_count": 59,
   "metadata": {
    "collapsed": true
   },
   "outputs": [],
   "source": [
    "features = X_train.columns"
   ]
  },
  {
   "cell_type": "code",
   "execution_count": 60,
   "metadata": {
    "scrolled": true
   },
   "outputs": [
    {
     "data": {
      "text/html": [
       "<div>\n",
       "<table border=\"1\" class=\"dataframe\">\n",
       "  <thead>\n",
       "    <tr style=\"text-align: right;\">\n",
       "      <th></th>\n",
       "      <th>0</th>\n",
       "      <th>1</th>\n",
       "    </tr>\n",
       "  </thead>\n",
       "  <tbody>\n",
       "    <tr>\n",
       "      <th>0</th>\n",
       "      <td>age_in_2017</td>\n",
       "      <td>0.152684</td>\n",
       "    </tr>\n",
       "    <tr>\n",
       "      <th>4</th>\n",
       "      <td>title_length</td>\n",
       "      <td>0.111647</td>\n",
       "    </tr>\n",
       "    <tr>\n",
       "      <th>759</th>\n",
       "      <td>Tattoo</td>\n",
       "      <td>0.0604947</td>\n",
       "    </tr>\n",
       "    <tr>\n",
       "      <th>808</th>\n",
       "      <td>The</td>\n",
       "      <td>0.054879</td>\n",
       "    </tr>\n",
       "    <tr>\n",
       "      <th>3</th>\n",
       "      <td>number_of_words</td>\n",
       "      <td>0.0523511</td>\n",
       "    </tr>\n",
       "    <tr>\n",
       "      <th>1</th>\n",
       "      <td>sentiment_polarity</td>\n",
       "      <td>0.0418231</td>\n",
       "    </tr>\n",
       "    <tr>\n",
       "      <th>2</th>\n",
       "      <td>sentiment_subjectivity</td>\n",
       "      <td>0.0371813</td>\n",
       "    </tr>\n",
       "    <tr>\n",
       "      <th>56</th>\n",
       "      <td>American</td>\n",
       "      <td>0.0278896</td>\n",
       "    </tr>\n",
       "    <tr>\n",
       "      <th>210</th>\n",
       "      <td>Culture</td>\n",
       "      <td>0.0250586</td>\n",
       "    </tr>\n",
       "    <tr>\n",
       "      <th>55</th>\n",
       "      <td>America</td>\n",
       "      <td>0.0177006</td>\n",
       "    </tr>\n",
       "    <tr>\n",
       "      <th>59</th>\n",
       "      <td>An</td>\n",
       "      <td>0.0176616</td>\n",
       "    </tr>\n",
       "    <tr>\n",
       "      <th>786</th>\n",
       "      <td>Tattoos</td>\n",
       "      <td>0.0165207</td>\n",
       "    </tr>\n",
       "    <tr>\n",
       "      <th>780</th>\n",
       "      <td>Tattooing</td>\n",
       "      <td>0.0149261</td>\n",
       "    </tr>\n",
       "    <tr>\n",
       "      <th>64</th>\n",
       "      <td>Ancient</td>\n",
       "      <td>0.0144491</td>\n",
       "    </tr>\n",
       "    <tr>\n",
       "      <th>157</th>\n",
       "      <td>Century</td>\n",
       "      <td>0.0133467</td>\n",
       "    </tr>\n",
       "    <tr>\n",
       "      <th>548</th>\n",
       "      <td>Novel</td>\n",
       "      <td>0.0131416</td>\n",
       "    </tr>\n",
       "    <tr>\n",
       "      <th>120</th>\n",
       "      <td>Body</td>\n",
       "      <td>0.0122716</td>\n",
       "    </tr>\n",
       "    <tr>\n",
       "      <th>9</th>\n",
       "      <td>4</td>\n",
       "      <td>0.00959938</td>\n",
       "    </tr>\n",
       "    <tr>\n",
       "      <th>775</th>\n",
       "      <td>Tattooed</td>\n",
       "      <td>0.00873612</td>\n",
       "    </tr>\n",
       "    <tr>\n",
       "      <th>895</th>\n",
       "      <td>We</td>\n",
       "      <td>0.00848905</td>\n",
       "    </tr>\n",
       "  </tbody>\n",
       "</table>\n",
       "</div>"
      ],
      "text/plain": [
       "                          0           1\n",
       "0               age_in_2017    0.152684\n",
       "4              title_length    0.111647\n",
       "759                  Tattoo   0.0604947\n",
       "808                     The    0.054879\n",
       "3           number_of_words   0.0523511\n",
       "1        sentiment_polarity   0.0418231\n",
       "2    sentiment_subjectivity   0.0371813\n",
       "56                 American   0.0278896\n",
       "210                 Culture   0.0250586\n",
       "55                  America   0.0177006\n",
       "59                       An   0.0176616\n",
       "786                 Tattoos   0.0165207\n",
       "780               Tattooing   0.0149261\n",
       "64                  Ancient   0.0144491\n",
       "157                 Century   0.0133467\n",
       "548                   Novel   0.0131416\n",
       "120                    Body   0.0122716\n",
       "9                         4  0.00959938\n",
       "775                Tattooed  0.00873612\n",
       "895                      We  0.00848905"
      ]
     },
     "execution_count": 60,
     "metadata": {},
     "output_type": "execute_result"
    }
   ],
   "source": [
    "feature_imp_df = pd.DataFrame([features, rfr_best_params_2.feature_importances_]).transpose()\n",
    "feature_imp_df.sort_values(by=1, ascending=False).head(20)"
   ]
  },
  {
   "cell_type": "markdown",
   "metadata": {},
   "source": [
    "### fit the model to the entire dataset"
   ]
  },
  {
   "cell_type": "code",
   "execution_count": 61,
   "metadata": {},
   "outputs": [
    {
     "data": {
      "text/plain": [
       "RandomForestRegressor(bootstrap=True, criterion='mse', max_depth=20,\n",
       "           max_features=0.3, max_leaf_nodes=None, min_impurity_split=1e-07,\n",
       "           min_samples_leaf=5, min_samples_split=2,\n",
       "           min_weight_fraction_leaf=0.0, n_estimators=100, n_jobs=1,\n",
       "           oob_score=False, random_state=None, verbose=0, warm_start=False)"
      ]
     },
     "execution_count": 61,
     "metadata": {},
     "output_type": "execute_result"
    }
   ],
   "source": [
    "rfr_final = RandomForestRegressor(max_depth=20, max_features=0.3, min_samples_leaf=5, n_estimators=100)\n",
    "rfr_final.fit(X, y)"
   ]
  },
  {
   "cell_type": "code",
   "execution_count": 62,
   "metadata": {
    "collapsed": true
   },
   "outputs": [],
   "source": [
    "features_final = X.columns"
   ]
  },
  {
   "cell_type": "code",
   "execution_count": 63,
   "metadata": {},
   "outputs": [
    {
     "data": {
      "text/html": [
       "<div>\n",
       "<table border=\"1\" class=\"dataframe\">\n",
       "  <thead>\n",
       "    <tr style=\"text-align: right;\">\n",
       "      <th></th>\n",
       "      <th>0</th>\n",
       "      <th>1</th>\n",
       "    </tr>\n",
       "  </thead>\n",
       "  <tbody>\n",
       "    <tr>\n",
       "      <th>0</th>\n",
       "      <td>age_in_2017</td>\n",
       "      <td>0.135728</td>\n",
       "    </tr>\n",
       "    <tr>\n",
       "      <th>4</th>\n",
       "      <td>title_length</td>\n",
       "      <td>0.0936617</td>\n",
       "    </tr>\n",
       "    <tr>\n",
       "      <th>759</th>\n",
       "      <td>Tattoo</td>\n",
       "      <td>0.0660697</td>\n",
       "    </tr>\n",
       "    <tr>\n",
       "      <th>808</th>\n",
       "      <td>The</td>\n",
       "      <td>0.0508765</td>\n",
       "    </tr>\n",
       "    <tr>\n",
       "      <th>3</th>\n",
       "      <td>number_of_words</td>\n",
       "      <td>0.0403982</td>\n",
       "    </tr>\n",
       "    <tr>\n",
       "      <th>56</th>\n",
       "      <td>American</td>\n",
       "      <td>0.0307724</td>\n",
       "    </tr>\n",
       "    <tr>\n",
       "      <th>2</th>\n",
       "      <td>sentiment_subjectivity</td>\n",
       "      <td>0.0283347</td>\n",
       "    </tr>\n",
       "    <tr>\n",
       "      <th>1</th>\n",
       "      <td>sentiment_polarity</td>\n",
       "      <td>0.0259923</td>\n",
       "    </tr>\n",
       "    <tr>\n",
       "      <th>210</th>\n",
       "      <td>Culture</td>\n",
       "      <td>0.018232</td>\n",
       "    </tr>\n",
       "    <tr>\n",
       "      <th>786</th>\n",
       "      <td>Tattoos</td>\n",
       "      <td>0.0170348</td>\n",
       "    </tr>\n",
       "    <tr>\n",
       "      <th>217</th>\n",
       "      <td>Death</td>\n",
       "      <td>0.0165547</td>\n",
       "    </tr>\n",
       "    <tr>\n",
       "      <th>157</th>\n",
       "      <td>Century</td>\n",
       "      <td>0.0155741</td>\n",
       "    </tr>\n",
       "    <tr>\n",
       "      <th>780</th>\n",
       "      <td>Tattooing</td>\n",
       "      <td>0.0146333</td>\n",
       "    </tr>\n",
       "    <tr>\n",
       "      <th>55</th>\n",
       "      <td>America</td>\n",
       "      <td>0.0144762</td>\n",
       "    </tr>\n",
       "    <tr>\n",
       "      <th>120</th>\n",
       "      <td>Body</td>\n",
       "      <td>0.0139198</td>\n",
       "    </tr>\n",
       "    <tr>\n",
       "      <th>388</th>\n",
       "      <td>Identity</td>\n",
       "      <td>0.0133084</td>\n",
       "    </tr>\n",
       "    <tr>\n",
       "      <th>895</th>\n",
       "      <td>We</td>\n",
       "      <td>0.0131432</td>\n",
       "    </tr>\n",
       "    <tr>\n",
       "      <th>807</th>\n",
       "      <td>That</td>\n",
       "      <td>0.0121166</td>\n",
       "    </tr>\n",
       "    <tr>\n",
       "      <th>548</th>\n",
       "      <td>Novel</td>\n",
       "      <td>0.0118246</td>\n",
       "    </tr>\n",
       "    <tr>\n",
       "      <th>800</th>\n",
       "      <td>Tennessee</td>\n",
       "      <td>0.0100467</td>\n",
       "    </tr>\n",
       "  </tbody>\n",
       "</table>\n",
       "</div>"
      ],
      "text/plain": [
       "                          0          1\n",
       "0               age_in_2017   0.135728\n",
       "4              title_length  0.0936617\n",
       "759                  Tattoo  0.0660697\n",
       "808                     The  0.0508765\n",
       "3           number_of_words  0.0403982\n",
       "56                 American  0.0307724\n",
       "2    sentiment_subjectivity  0.0283347\n",
       "1        sentiment_polarity  0.0259923\n",
       "210                 Culture   0.018232\n",
       "786                 Tattoos  0.0170348\n",
       "217                   Death  0.0165547\n",
       "157                 Century  0.0155741\n",
       "780               Tattooing  0.0146333\n",
       "55                  America  0.0144762\n",
       "120                    Body  0.0139198\n",
       "388                Identity  0.0133084\n",
       "895                      We  0.0131432\n",
       "807                    That  0.0121166\n",
       "548                   Novel  0.0118246\n",
       "800               Tennessee  0.0100467"
      ]
     },
     "execution_count": 63,
     "metadata": {},
     "output_type": "execute_result"
    }
   ],
   "source": [
    "feature_imp_final = pd.DataFrame([features_final, rfr_final.feature_importances_]).transpose()\n",
    "feature_imp_final.sort_values(by=1, ascending=False).head(20)"
   ]
  },
  {
   "cell_type": "code",
   "execution_count": 64,
   "metadata": {
    "collapsed": true
   },
   "outputs": [],
   "source": [
    "#add scoring on whole model\n",
    "predictions = rfr_final.predict(X)"
   ]
  },
  {
   "cell_type": "code",
   "execution_count": 65,
   "metadata": {},
   "outputs": [
    {
     "data": {
      "text/plain": [
       "0.26196687437136967"
      ]
     },
     "execution_count": 65,
     "metadata": {},
     "output_type": "execute_result"
    }
   ],
   "source": [
    "rfr_final.score(X, y)"
   ]
  },
  {
   "cell_type": "code",
   "execution_count": 66,
   "metadata": {},
   "outputs": [
    {
     "data": {
      "text/plain": [
       "0.26197207026349167"
      ]
     },
     "execution_count": 66,
     "metadata": {},
     "output_type": "execute_result"
    }
   ],
   "source": [
    "explained_variance_score(y, predictions)"
   ]
  },
  {
   "cell_type": "code",
   "execution_count": 67,
   "metadata": {},
   "outputs": [
    {
     "data": {
      "text/plain": [
       "146.22572597840224"
      ]
     },
     "execution_count": 67,
     "metadata": {},
     "output_type": "execute_result"
    }
   ],
   "source": [
    "mean_absolute_error(y, predictions)"
   ]
  },
  {
   "cell_type": "code",
   "execution_count": 68,
   "metadata": {},
   "outputs": [
    {
     "data": {
      "text/plain": [
       "47431.316318770645"
      ]
     },
     "execution_count": 68,
     "metadata": {},
     "output_type": "execute_result"
    }
   ],
   "source": [
    "mean_squared_error(y, predictions)"
   ]
  },
  {
   "cell_type": "code",
   "execution_count": 69,
   "metadata": {},
   "outputs": [
    {
     "data": {
      "image/png": "[encoded data removed]",
      "text/plain": [
       "<matplotlib.figure.Figure at 0x11d95be48>"
      ]
     },
     "metadata": {},
     "output_type": "display_data"
    }
   ],
   "source": [
    "plt.scatter(y, predictions, marker=\"+\", s=1, facecolor='#F557A4')\n",
    "plt.ylim(1,1500)\n",
    "plt.xlabel(\"Actual Total Library Counts\")\n",
    "plt.ylabel(\"Predicted Total Library Counts\")\n",
    "plt.title(\"Comparison of Actual vs. Predicted Library Counts\", color=\"#840000\")\n",
    "plt.savefig(\"images/actual_vs_predicted_libcount.png\", dpi=150)"
   ]
  },
  {
   "cell_type": "code",
   "execution_count": 70,
   "metadata": {},
   "outputs": [
    {
     "data": {
      "image/png": "[encoded data removed]",
      "text/plain": [
       "<matplotlib.figure.Figure at 0x11d6447b8>"
      ]
     },
     "metadata": {},
     "output_type": "display_data"
    }
   ],
   "source": [
    "plt.scatter(y, predictions, marker=\"+\", s=1, facecolor='#F557A4')\n",
    "plt.ylim(1,400)\n",
    "plt.xlim(1,400)\n",
    "plt.xlabel(\"Actual Total Library Counts\")\n",
    "plt.ylabel(\"Predicted Total Library Counts\")\n",
    "plt.title(\"Comparison of Actual vs. Predicted Library Counts\", color=\"#840000\")\n",
    "plt.savefig(\"images/actual_vs_predicted_libcount_detail.png\", dpi=150)"
   ]
  },
  {
   "cell_type": "code",
   "execution_count": null,
   "metadata": {
    "collapsed": true
   },
   "outputs": [],
   "source": []
  },
  {
   "cell_type": "code",
   "execution_count": null,
   "metadata": {
    "collapsed": true
   },
   "outputs": [],
   "source": []
  },
  {
   "cell_type": "code",
   "execution_count": null,
   "metadata": {
    "collapsed": true
   },
   "outputs": [],
   "source": []
  },
  {
   "cell_type": "code",
   "execution_count": 74,
   "metadata": {},
   "outputs": [
    {
     "data": {
      "text/plain": [
       "array([ 185.97974243])"
      ]
     },
     "execution_count": 74,
     "metadata": {},
     "output_type": "execute_result"
    }
   ],
   "source": [
    "rfr_final.predict(pd.read_csv(\"/Users/annafriedman/GA/GACapstoneProject/test_data/test titles/X2_Ancient_Inkc_the_historical_mystery_of_tattoos.csv\"))"
   ]
  },
  {
   "cell_type": "code",
   "execution_count": 75,
   "metadata": {},
   "outputs": [
    {
     "data": {
      "text/plain": [
       "array([ 164.54355615])"
      ]
     },
     "execution_count": 75,
     "metadata": {},
     "output_type": "execute_result"
    }
   ],
   "source": [
    "rfr_final.predict(pd.read_csv(\"/Users/annafriedman/GA/GACapstoneProject/test_data/test titles/X2_Ancient_Inkc_the_historical_mystery_of_tattoos_5.csv\"))"
   ]
  },
  {
   "cell_type": "code",
   "execution_count": 76,
   "metadata": {},
   "outputs": [
    {
     "data": {
      "text/plain": [
       "array([ 163.88710086])"
      ]
     },
     "execution_count": 76,
     "metadata": {},
     "output_type": "execute_result"
    }
   ],
   "source": [
    "rfr_final.predict(pd.read_csv(\"/Users/annafriedman/GA/GACapstoneProject/test_data/test titles/X2_Ancient_Inkc_the_historical_mystery_of_tattoos_10.csv\"))"
   ]
  },
  {
   "cell_type": "code",
   "execution_count": 78,
   "metadata": {},
   "outputs": [
    {
     "data": {
      "text/plain": [
       "array([ 96.94417243])"
      ]
     },
     "execution_count": 78,
     "metadata": {},
     "output_type": "execute_result"
    }
   ],
   "source": [
    "rfr_final.predict(pd.read_csv(\"/Users/annafriedman/GA/GACapstoneProject/test_data/test titles/X2_I_love_cats.csv\"))"
   ]
  },
  {
   "cell_type": "code",
   "execution_count": 79,
   "metadata": {},
   "outputs": [
    {
     "data": {
      "text/plain": [
       "array([ 77.39801362])"
      ]
     },
     "execution_count": 79,
     "metadata": {},
     "output_type": "execute_result"
    }
   ],
   "source": [
    "rfr_final.predict(pd.read_csv(\"/Users/annafriedman/GA/GACapstoneProject/test_data/test titles/X2_Tattoos_Rock.csv\"))"
   ]
  },
  {
   "cell_type": "code",
   "execution_count": 80,
   "metadata": {},
   "outputs": [
    {
     "data": {
      "text/plain": [
       "array([ 72.3410585])"
      ]
     },
     "execution_count": 80,
     "metadata": {},
     "output_type": "execute_result"
    }
   ],
   "source": [
    "rfr_final.predict(pd.read_csv(\"/Users/annafriedman/GA/GACapstoneProject/test_data/test titles/X2_Tattoos_Rock_2.csv\"))"
   ]
  },
  {
   "cell_type": "code",
   "execution_count": 81,
   "metadata": {},
   "outputs": [
    {
     "data": {
      "text/plain": [
       "array([ 77.57652541])"
      ]
     },
     "execution_count": 81,
     "metadata": {},
     "output_type": "execute_result"
    }
   ],
   "source": [
    "rfr_final.predict(pd.read_csv(\"/Users/annafriedman/GA/GACapstoneProject/test_data/test titles/X2_Tattoos_Rock_10.csv\"))"
   ]
  },
  {
   "cell_type": "markdown",
   "metadata": {
    "collapsed": true
   },
   "source": [
    "new predictions with pipeline here"
   ]
  },
  {
   "cell_type": "code",
   "execution_count": 82,
   "metadata": {},
   "outputs": [
    {
     "data": {
      "text/plain": [
       "array([ 288.13407163])"
      ]
     },
     "execution_count": 82,
     "metadata": {},
     "output_type": "execute_result"
    }
   ],
   "source": [
    "rfr_final.predict(pd.read_csv(\"/Users/annafriedman/GA/GACapstoneProject/test_data/test titles/X3_Marking_Identityc_Maori_Tattoos_and_Cultural_History.csv\"))"
   ]
  },
  {
   "cell_type": "code",
   "execution_count": null,
   "metadata": {
    "collapsed": true
   },
   "outputs": [],
   "source": []
  }
 ],
 "metadata": {
  "kernelspec": {
   "display_name": "Python 3",
   "language": "python",
   "name": "python3"
  },
  "language_info": {
   "codemirror_mode": {
    "name": "ipython",
    "version": 3
   },
   "file_extension": ".py",
   "mimetype": "text/x-python",
   "name": "python",
   "nbconvert_exporter": "python",
   "pygments_lexer": "ipython3",
   "version": "3.6.0"
  }
 },
 "nbformat": 4,
 "nbformat_minor": 2
}
