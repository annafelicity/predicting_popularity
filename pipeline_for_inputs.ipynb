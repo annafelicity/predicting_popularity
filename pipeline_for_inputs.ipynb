{
 "cells": [
  {
   "cell_type": "markdown",
   "metadata": {},
   "source": [
    "Note: this is the prototype of the various bits of code that would need to be in a pipeline for user inputs\n",
    "\n",
    "I need to do a lot more work on this, pickling the sub-models, etc. Stay tuned!"
   ]
  },
  {
   "cell_type": "code",
   "execution_count": 1,
   "metadata": {
    "collapsed": true
   },
   "outputs": [],
   "source": [
    "import pandas as pd\n",
    "import re\n",
    "import pickle\n",
    "from titlecase import titlecase\n",
    "from textblob import TextBlob\n",
    "from textstat.textstat import textstat\n",
    "from sklearn.feature_extraction.text import CountVectorizer, TfidfVectorizer\n",
    "from sklearn.decomposition import LatentDirichletAllocation\n",
    "from sklearn.preprocessing import LabelBinarizer"
   ]
  },
  {
   "cell_type": "code",
   "execution_count": 2,
   "metadata": {
    "collapsed": true
   },
   "outputs": [],
   "source": [
    "#I don't need to do this now because of the pickles\n",
    "\n",
    "# #read in the csv for modeling\n",
    "# data_1500_kf = pd.read_csv(\"full_data/english_books_final_deduped_2_to_1500.csv\", usecols=[\"proper_title\", \"age_in_2017\"])\n",
    "# data_1500_kf.dropna(inplace=True)"
   ]
  },
  {
   "cell_type": "code",
   "execution_count": 3,
   "metadata": {
    "collapsed": true
   },
   "outputs": [],
   "source": [
    "# data_1500_kf.index = range(len(data_1500_kf))"
   ]
  },
  {
   "cell_type": "code",
   "execution_count": 4,
   "metadata": {
    "scrolled": true
   },
   "outputs": [],
   "source": [
    "# data_1500_kf.shape"
   ]
  },
  {
   "cell_type": "code",
   "execution_count": 5,
   "metadata": {
    "collapsed": true
   },
   "outputs": [],
   "source": [
    "x = [(\"Marking Identity: Maori Tattoos and Cultural History\", 0)]"
   ]
  },
  {
   "cell_type": "code",
   "execution_count": 6,
   "metadata": {
    "scrolled": true
   },
   "outputs": [
    {
     "data": {
      "text/html": [
       "<div>\n",
       "<table border=\"1\" class=\"dataframe\">\n",
       "  <thead>\n",
       "    <tr style=\"text-align: right;\">\n",
       "      <th></th>\n",
       "      <th>title</th>\n",
       "      <th>age_in_2017</th>\n",
       "    </tr>\n",
       "  </thead>\n",
       "  <tbody>\n",
       "    <tr>\n",
       "      <th>0</th>\n",
       "      <td>Marking Identity: Maori Tattoos and Cultural H...</td>\n",
       "      <td>0</td>\n",
       "    </tr>\n",
       "  </tbody>\n",
       "</table>\n",
       "</div>"
      ],
      "text/plain": [
       "                                               title  age_in_2017\n",
       "0  Marking Identity: Maori Tattoos and Cultural H...            0"
      ]
     },
     "execution_count": 6,
     "metadata": {},
     "output_type": "execute_result"
    }
   ],
   "source": [
    "df_x = pd.DataFrame(x, columns=[\"title\", \"age_in_2017\"])\n",
    "df_x"
   ]
  },
  {
   "cell_type": "code",
   "execution_count": 7,
   "metadata": {
    "collapsed": true
   },
   "outputs": [],
   "source": [
    "#turn title into proper title\n",
    "def make_proper_title(string):\n",
    "    string = string.replace(\" : \", \": \")\n",
    "    string = string.rstrip(\".\")\n",
    "    return titlecase(string)"
   ]
  },
  {
   "cell_type": "code",
   "execution_count": 8,
   "metadata": {
    "collapsed": true
   },
   "outputs": [],
   "source": [
    "df_x[\"proper_title\"] = df_x[\"title\"].apply(make_proper_title)"
   ]
  },
  {
   "cell_type": "code",
   "execution_count": 9,
   "metadata": {
    "collapsed": true
   },
   "outputs": [],
   "source": [
    "#add sentiment analysis\n",
    "def text_blob_sentiment_polarity(value):\n",
    "    blob = TextBlob(value)\n",
    "    return blob.sentiment.polarity\n",
    "def text_blob_sentiment_subjectivity(value):\n",
    "    blob = TextBlob(value)\n",
    "    return blob.sentiment.subjectivity"
   ]
  },
  {
   "cell_type": "code",
   "execution_count": 10,
   "metadata": {
    "collapsed": true
   },
   "outputs": [],
   "source": [
    "df_x[\"sentiment_polarity\"] = df_x[\"proper_title\"].apply(text_blob_sentiment_polarity)\n"
   ]
  },
  {
   "cell_type": "code",
   "execution_count": 11,
   "metadata": {
    "collapsed": true
   },
   "outputs": [],
   "source": [
    "df_x[\"sentiment_subjectivity\"] = df_x[\"proper_title\"].apply(text_blob_sentiment_subjectivity)\n"
   ]
  },
  {
   "cell_type": "code",
   "execution_count": 12,
   "metadata": {
    "collapsed": true
   },
   "outputs": [],
   "source": [
    "#add reading level\n",
    "def reading_level_comp(string):\n",
    "    try:\n",
    "        level = textstat.text_standard(string)\n",
    "        return level\n",
    "    except:\n",
    "        return \"Unclear\""
   ]
  },
  {
   "cell_type": "code",
   "execution_count": 13,
   "metadata": {
    "collapsed": true
   },
   "outputs": [],
   "source": [
    "df_x[\"reading_level\"] = df_x[\"proper_title\"].apply(reading_level_comp)"
   ]
  },
  {
   "cell_type": "code",
   "execution_count": 14,
   "metadata": {},
   "outputs": [],
   "source": [
    "#need to make a dataframe for dummies based on the training set\n",
    "#first get the training reading levels to use for dummies\n",
    "#this is NOT the way to do this--takes too long\n",
    "# data_1500_kf[\"reading_level\"] = data_1500_kf[\"proper_title\"].apply(reading_level_comp)"
   ]
  },
  {
   "cell_type": "code",
   "execution_count": 15,
   "metadata": {
    "scrolled": true
   },
   "outputs": [],
   "source": [
    "# # make reading level from training set into a dummies df\n",
    "# lb_rl = LabelBinarizer()\n",
    "# lb_rl.fit_transform(data_1500_kf[\"reading_level\"])"
   ]
  },
  {
   "cell_type": "code",
   "execution_count": 20,
   "metadata": {},
   "outputs": [],
   "source": [
    "lb_rl = pickle.load(open('lb_for_rl.pkl', 'rb'))"
   ]
  },
  {
   "cell_type": "code",
   "execution_count": 21,
   "metadata": {},
   "outputs": [
    {
     "data": {
      "text/plain": [
       "array([[0, 0, 0, 0, 0, 0, 0, 0, 0, 0, 1, 0, 0, 0, 0, 0, 0, 0, 0, 0, 0, 0,\n",
       "        0, 0, 0, 0, 0, 0, 0, 0, 0, 0, 0, 0, 0, 0, 0, 0, 0, 0, 0, 0, 0, 0,\n",
       "        0, 0, 0, 0, 0]])"
      ]
     },
     "execution_count": 21,
     "metadata": {},
     "output_type": "execute_result"
    }
   ],
   "source": [
    "#use the lb for the input title\n",
    "lb_rl_input = lb_rl.transform(df_x[\"reading_level\"])\n",
    "lb_rl_input"
   ]
  },
  {
   "cell_type": "code",
   "execution_count": 22,
   "metadata": {},
   "outputs": [
    {
     "data": {
      "text/plain": [
       "(1, 49)"
      ]
     },
     "execution_count": 22,
     "metadata": {},
     "output_type": "execute_result"
    }
   ],
   "source": [
    "reading_level_dummies = pd.DataFrame(lb_rl_input)\n",
    "reading_level_dummies.shape"
   ]
  },
  {
   "cell_type": "code",
   "execution_count": 23,
   "metadata": {
    "collapsed": true
   },
   "outputs": [],
   "source": [
    "#add number of words column\n",
    "df_x[\"number_of_words\"] = df_x[\"proper_title\"].apply(lambda x: len(x.split()))"
   ]
  },
  {
   "cell_type": "code",
   "execution_count": 24,
   "metadata": {
    "collapsed": true
   },
   "outputs": [],
   "source": [
    "#add title length\n",
    "df_x[\"title_length\"] = df_x[\"proper_title\"].apply(lambda x: len(x))"
   ]
  },
  {
   "cell_type": "code",
   "execution_count": 25,
   "metadata": {
    "collapsed": true
   },
   "outputs": [],
   "source": [
    "#add topic modeling\n",
    "#make the CV model on the training set\n",
    "#NOTE: I can pickle this model for use in both the input pipeline and the model\n",
    "# cv_for_lda = CountVectorizer(min_df=5, max_df=.75, ngram_range=(1,3), stop_words=\"english\")\n",
    "\n",
    "# words = cv_for_lda.fit_transform(data_1500_kf[\"proper_title\"])"
   ]
  },
  {
   "cell_type": "code",
   "execution_count": 26,
   "metadata": {},
   "outputs": [],
   "source": [
    "#do the topic modeling on the training set\n",
    "#NOTE: as above re: pickling\n",
    "# lda_8 = LatentDirichletAllocation(n_topics=8, max_iter=15,\n",
    "#                                 topic_word_prior=2,\n",
    "#                                 learning_offset=50., random_state=3)\n",
    "\n",
    "# lda_8.fit(words)\n"
   ]
  },
  {
   "cell_type": "code",
   "execution_count": 27,
   "metadata": {
    "collapsed": true
   },
   "outputs": [],
   "source": [
    "#CountVectorize the words in the input string in keeping with the topic modeling model\n",
    "cv_for_lda = pickle.load(open('cv_for_lda.pkl', 'rb'))\n",
    "input_words = cv_for_lda.transform(df_x[\"proper_title\"])\n"
   ]
  },
  {
   "cell_type": "code",
   "execution_count": 28,
   "metadata": {
    "scrolled": true
   },
   "outputs": [
    {
     "data": {
      "text/plain": [
       "(1, 772)"
      ]
     },
     "execution_count": 28,
     "metadata": {},
     "output_type": "execute_result"
    }
   ],
   "source": [
    "input_words.shape"
   ]
  },
  {
   "cell_type": "code",
   "execution_count": 29,
   "metadata": {
    "collapsed": true
   },
   "outputs": [],
   "source": [
    "#transform the input string using the training set model\n",
    "lda_8 = pickle.load(open('ttpc_lda.pkl', 'rb'))\n",
    "transformed_data_8= lda_8.transform(input_words)\n",
    "transformed_data_8 = pd.DataFrame(transformed_data_8, columns=['Topic %s' % x for x in range(8)])"
   ]
  },
  {
   "cell_type": "code",
   "execution_count": 30,
   "metadata": {},
   "outputs": [
    {
     "data": {
      "text/html": [
       "<div>\n",
       "<table border=\"1\" class=\"dataframe\">\n",
       "  <thead>\n",
       "    <tr style=\"text-align: right;\">\n",
       "      <th></th>\n",
       "      <th>Topic 0</th>\n",
       "      <th>Topic 1</th>\n",
       "      <th>Topic 2</th>\n",
       "      <th>Topic 3</th>\n",
       "      <th>Topic 4</th>\n",
       "      <th>Topic 5</th>\n",
       "      <th>Topic 6</th>\n",
       "      <th>Topic 7</th>\n",
       "    </tr>\n",
       "  </thead>\n",
       "  <tbody>\n",
       "    <tr>\n",
       "      <th>0</th>\n",
       "      <td>0.015676</td>\n",
       "      <td>0.015654</td>\n",
       "      <td>0.015647</td>\n",
       "      <td>0.015646</td>\n",
       "      <td>0.489557</td>\n",
       "      <td>0.236054</td>\n",
       "      <td>0.196127</td>\n",
       "      <td>0.01564</td>\n",
       "    </tr>\n",
       "  </tbody>\n",
       "</table>\n",
       "</div>"
      ],
      "text/plain": [
       "    Topic 0   Topic 1   Topic 2   Topic 3   Topic 4   Topic 5   Topic 6  \\\n",
       "0  0.015676  0.015654  0.015647  0.015646  0.489557  0.236054  0.196127   \n",
       "\n",
       "   Topic 7  \n",
       "0  0.01564  "
      ]
     },
     "execution_count": 30,
     "metadata": {},
     "output_type": "execute_result"
    }
   ],
   "source": [
    "transformed_data_8"
   ]
  },
  {
   "cell_type": "code",
   "execution_count": 31,
   "metadata": {
    "collapsed": true
   },
   "outputs": [],
   "source": [
    "def top_topic_number_extractor(dataframe):\n",
    "    top_topic_list = []\n",
    "    for i in dataframe.index:\n",
    "        ordered_row = dataframe.iloc[i,:].sort_values(ascending=False)\n",
    "        top_topic_name = ordered_row.index[0]\n",
    "        count_pattern = re.compile(\"\\d+\")\n",
    "        top_topic_number = count_pattern.search(top_topic_name).group()\n",
    "        top_topic_list.append(int(top_topic_number))\n",
    "    return top_topic_list"
   ]
  },
  {
   "cell_type": "code",
   "execution_count": 32,
   "metadata": {
    "collapsed": true
   },
   "outputs": [],
   "source": [
    "df_x[\"top_topic_number_lda8\"] = top_topic_number_extractor(transformed_data_8)"
   ]
  },
  {
   "cell_type": "code",
   "execution_count": 33,
   "metadata": {},
   "outputs": [
    {
     "data": {
      "text/plain": [
       "0    4\n",
       "Name: top_topic_number_lda8, dtype: int64"
      ]
     },
     "execution_count": 33,
     "metadata": {},
     "output_type": "execute_result"
    }
   ],
   "source": [
    "df_x[\"top_topic_number_lda8\"]"
   ]
  },
  {
   "cell_type": "code",
   "execution_count": 34,
   "metadata": {
    "collapsed": true
   },
   "outputs": [],
   "source": [
    "topics_list = []\n",
    "for i in range(0,8):\n",
    "    if df_x[\"top_topic_number_lda8\"][0] == i:\n",
    "        topics_list.append(1)\n",
    "    else:\n",
    "        topics_list.append(0)"
   ]
  },
  {
   "cell_type": "code",
   "execution_count": 35,
   "metadata": {},
   "outputs": [
    {
     "data": {
      "text/plain": [
       "[0, 0, 0, 0, 1, 0, 0, 0]"
      ]
     },
     "execution_count": 35,
     "metadata": {},
     "output_type": "execute_result"
    }
   ],
   "source": [
    "topics_list"
   ]
  },
  {
   "cell_type": "code",
   "execution_count": 36,
   "metadata": {
    "collapsed": true
   },
   "outputs": [],
   "source": [
    "#turn topics dict into df for joining\n",
    "top_topics_df = pd.DataFrame(topics_list).transpose().copy()"
   ]
  },
  {
   "cell_type": "code",
   "execution_count": 37,
   "metadata": {
    "scrolled": true
   },
   "outputs": [
    {
     "data": {
      "text/html": [
       "<div>\n",
       "<table border=\"1\" class=\"dataframe\">\n",
       "  <thead>\n",
       "    <tr style=\"text-align: right;\">\n",
       "      <th></th>\n",
       "      <th>0</th>\n",
       "      <th>1</th>\n",
       "      <th>2</th>\n",
       "      <th>3</th>\n",
       "      <th>4</th>\n",
       "      <th>5</th>\n",
       "      <th>6</th>\n",
       "      <th>7</th>\n",
       "    </tr>\n",
       "  </thead>\n",
       "  <tbody>\n",
       "    <tr>\n",
       "      <th>0</th>\n",
       "      <td>0</td>\n",
       "      <td>0</td>\n",
       "      <td>0</td>\n",
       "      <td>0</td>\n",
       "      <td>1</td>\n",
       "      <td>0</td>\n",
       "      <td>0</td>\n",
       "      <td>0</td>\n",
       "    </tr>\n",
       "  </tbody>\n",
       "</table>\n",
       "</div>"
      ],
      "text/plain": [
       "   0  1  2  3  4  5  6  7\n",
       "0  0  0  0  0  1  0  0  0"
      ]
     },
     "execution_count": 37,
     "metadata": {},
     "output_type": "execute_result"
    }
   ],
   "source": [
    "top_topics_df"
   ]
  },
  {
   "cell_type": "code",
   "execution_count": 38,
   "metadata": {},
   "outputs": [],
   "source": [
    "#can use pickle now\n",
    "#tfidf vectorize the words in the training set:\n",
    "# tfidf = TfidfVectorizer(min_df=5, max_df=.95, lowercase=False, stop_words=\"english\", ngram_range=(1,3))\n",
    "# tfidf.fit_transform(data_1500_kf[\"proper_title\"])"
   ]
  },
  {
   "cell_type": "code",
   "execution_count": 39,
   "metadata": {},
   "outputs": [],
   "source": [
    "# len(tfidf.vocabulary_)"
   ]
  },
  {
   "cell_type": "code",
   "execution_count": 40,
   "metadata": {
    "collapsed": true
   },
   "outputs": [],
   "source": [
    "#transform the input into tfidf\n",
    "tfidf = pickle.load(open('tfidf.pkl', 'rb'))\n",
    "tfidf_title = tfidf.transform(df_x[\"proper_title\"])"
   ]
  },
  {
   "cell_type": "code",
   "execution_count": 41,
   "metadata": {
    "collapsed": true
   },
   "outputs": [],
   "source": [
    "#make it into a df to join onto beginning data:\n",
    "tfidf_title_df = pd.DataFrame(tfidf_title.todense(), \n",
    "                  columns=tfidf.get_feature_names())"
   ]
  },
  {
   "cell_type": "code",
   "execution_count": 42,
   "metadata": {},
   "outputs": [
    {
     "data": {
      "text/plain": [
       "(1, 923)"
      ]
     },
     "execution_count": 42,
     "metadata": {},
     "output_type": "execute_result"
    }
   ],
   "source": [
    "tfidf_title_df.shape"
   ]
  },
  {
   "cell_type": "code",
   "execution_count": 43,
   "metadata": {
    "collapsed": true
   },
   "outputs": [],
   "source": [
    "#make X to match model X (using X3 here to distinguish from older ones)\n",
    "X3 = pd.concat([df_x[[\"age_in_2017\", \"sentiment_polarity\", \"sentiment_subjectivity\", \"number_of_words\", \"title_length\"]], top_topics_df, tfidf_title_df, reading_level_dummies], axis=1)\n"
   ]
  },
  {
   "cell_type": "code",
   "execution_count": 44,
   "metadata": {},
   "outputs": [
    {
     "data": {
      "text/html": [
       "<div>\n",
       "<table border=\"1\" class=\"dataframe\">\n",
       "  <thead>\n",
       "    <tr style=\"text-align: right;\">\n",
       "      <th></th>\n",
       "      <th>age_in_2017</th>\n",
       "      <th>sentiment_polarity</th>\n",
       "      <th>sentiment_subjectivity</th>\n",
       "      <th>number_of_words</th>\n",
       "      <th>title_length</th>\n",
       "      <th>0</th>\n",
       "      <th>1</th>\n",
       "      <th>2</th>\n",
       "      <th>3</th>\n",
       "      <th>4</th>\n",
       "      <th>...</th>\n",
       "      <th>39</th>\n",
       "      <th>40</th>\n",
       "      <th>41</th>\n",
       "      <th>42</th>\n",
       "      <th>43</th>\n",
       "      <th>44</th>\n",
       "      <th>45</th>\n",
       "      <th>46</th>\n",
       "      <th>47</th>\n",
       "      <th>48</th>\n",
       "    </tr>\n",
       "  </thead>\n",
       "  <tbody>\n",
       "    <tr>\n",
       "      <th>0</th>\n",
       "      <td>0</td>\n",
       "      <td>0.1</td>\n",
       "      <td>0.1</td>\n",
       "      <td>7</td>\n",
       "      <td>52</td>\n",
       "      <td>0</td>\n",
       "      <td>0</td>\n",
       "      <td>0</td>\n",
       "      <td>0</td>\n",
       "      <td>1</td>\n",
       "      <td>...</td>\n",
       "      <td>0</td>\n",
       "      <td>0</td>\n",
       "      <td>0</td>\n",
       "      <td>0</td>\n",
       "      <td>0</td>\n",
       "      <td>0</td>\n",
       "      <td>0</td>\n",
       "      <td>0</td>\n",
       "      <td>0</td>\n",
       "      <td>0</td>\n",
       "    </tr>\n",
       "  </tbody>\n",
       "</table>\n",
       "<p>1 rows × 985 columns</p>\n",
       "</div>"
      ],
      "text/plain": [
       "   age_in_2017  sentiment_polarity  sentiment_subjectivity  number_of_words  \\\n",
       "0            0                 0.1                     0.1                7   \n",
       "\n",
       "   title_length  0  1  2  3  4 ...  39  40  41  42  43  44  45  46  47  48  \n",
       "0            52  0  0  0  0  1 ...   0   0   0   0   0   0   0   0   0   0  \n",
       "\n",
       "[1 rows x 985 columns]"
      ]
     },
     "execution_count": 44,
     "metadata": {},
     "output_type": "execute_result"
    }
   ],
   "source": [
    "X3"
   ]
  },
  {
   "cell_type": "code",
   "execution_count": 45,
   "metadata": {},
   "outputs": [
    {
     "data": {
      "text/plain": [
       "(1, 985)"
      ]
     },
     "execution_count": 45,
     "metadata": {},
     "output_type": "execute_result"
    }
   ],
   "source": [
    "X3.shape"
   ]
  },
  {
   "cell_type": "code",
   "execution_count": 48,
   "metadata": {},
   "outputs": [],
   "source": [
    "X3.to_csv(\"/Users/annafriedman/GA/GACapstoneProject/test_data/test titles/X3_Marking_Identityc_Maori_Tattoos_and_Cultural_History.csv\", index=False, encoding=\"utf-8\")"
   ]
  },
  {
   "cell_type": "code",
   "execution_count": null,
   "metadata": {
    "collapsed": true
   },
   "outputs": [],
   "source": []
  }
 ],
 "metadata": {
  "kernelspec": {
   "display_name": "Python 3",
   "language": "python",
   "name": "python3"
  },
  "language_info": {
   "codemirror_mode": {
    "name": "ipython",
    "version": 3
   },
   "file_extension": ".py",
   "mimetype": "text/x-python",
   "name": "python",
   "nbconvert_exporter": "python",
   "pygments_lexer": "ipython3",
   "version": "3.6.0"
  }
 },
 "nbformat": 4,
 "nbformat_minor": 2
}
